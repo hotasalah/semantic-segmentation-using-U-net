{
 "cells": [
  {
   "cell_type": "markdown",
   "metadata": {},
   "source": [
    "# Implementing semantic segmentation using U-Net\n",
    "This taske leverages the U-Net architecture to predict the class that corresponds to all the pixels in the image.\n",
    "<br>The objective is beyond just drawing a bounding box around the object, as like in traditional object detection, but also identifying the exact pixels that contain an object\n",
    "\n",
    "<br>There are two main aspects should be kept in mind when performing image segmentation using U-Net:\n",
    "- The shape and structure of the objects in the original image remain the same in the segmented output.\n",
    "- Leveraging a fully convolutional architecture (and not a structure where we flatten a certain layer) can help here since we are using one image input and another as output."
   ]
  },
  {
   "cell_type": "code",
   "execution_count": 2,
   "metadata": {},
   "outputs": [],
   "source": [
    "import torch\n",
    "import torch.nn as nn\n",
    "import torch.nn.functional as F\n",
    "\n",
    "from torch import optim\n",
    "from torch.utils.data import TensorDataset, DataLoader\n",
    "\n",
    "from torchsummary import summary\n",
    "\n",
    "from torch_snippets import *\n",
    "from torchvision import transforms\n",
    "from torchvision.models import vgg16_bn\n",
    "from sklearn.model_selection import train_test_split\n",
    "\n",
    "import matplotlib.pyplot as plt\n",
    "\n",
    "import os"
   ]
  },
  {
   "cell_type": "code",
   "execution_count": null,
   "metadata": {},
   "outputs": [],
   "source": [
    "if not os.path.exists('dataset1'):\n",
    "    !wget -q https://www.dropbox.com/s/0pigmmmynbf9xwq/dataset1.zip\n",
    "    !unzip -q dataset1.zip\n",
    "    !rm dataset1.zip"
   ]
  },
  {
   "cell_type": "code",
   "execution_count": 3,
   "metadata": {},
   "outputs": [],
   "source": [
    "%matplotlib inline"
   ]
  },
  {
   "cell_type": "code",
   "execution_count": 4,
   "metadata": {},
   "outputs": [],
   "source": [
    "device = 'cuda' if torch.cuda.is_available() else 'cpu'"
   ]
  },
  {
   "cell_type": "markdown",
   "metadata": {},
   "source": [
    "#### Defining the function that will be used to transform images"
   ]
  },
  {
   "cell_type": "code",
   "execution_count": 5,
   "metadata": {},
   "outputs": [],
   "source": [
    "tfms = transforms.Compose([\n",
    "    transforms.ToTensor(),\n",
    "    transforms.Normalize([0.485, 0.456, 0.406], [0.229, 0.224, 0.225]) # imagenet\n",
    "])"
   ]
  },
  {
   "cell_type": "markdown",
   "metadata": {},
   "source": [
    "#### Defining the dataset class"
   ]
  },
  {
   "cell_type": "code",
   "execution_count": 6,
   "metadata": {},
   "outputs": [],
   "source": [
    "class SegData(Dataset):\n",
    "    \n",
    "    def __init__(self, split):\n",
    "        \n",
    "        self.items = stems(f'dataset1/images_prepped_{split}')\n",
    "        self.split = split\n",
    "        \n",
    "    def __len__(self):\n",
    "        return len(self.items)\n",
    "    \n",
    "    def __getitem__(self, ix):\n",
    "        \n",
    "        image = read(f'dataset1/images_prepped_{self.split}/{self.items[ix]}.png', 1)\n",
    "        image = cv2.resize(image, (224,224))\n",
    "        mask = read(f'dataset1/annotations_prepped_{self.split}/{self.items[ix]}.png')\n",
    "        mask = cv2.resize(mask, (224,224))\n",
    "        \n",
    "        return image, mask\n",
    "    \n",
    "    def choose(self):\n",
    "        return self[randint(len(self))]\n",
    "    \n",
    "    def collate_fn(self, batch):\n",
    "        \n",
    "        ims, masks = list(zip(*batch))\n",
    "        ims = torch.cat([tfms(im.copy()/255.)[None] for im in ims]).float().to(device)\n",
    "        ce_masks = torch.cat([torch.Tensor(mask[None]) for mask in masks]).long().to(device)\n",
    "        \n",
    "        return ims, ce_masks"
   ]
  },
  {
   "cell_type": "markdown",
   "metadata": {},
   "source": [
    "#### Defining the training and validation datasets"
   ]
  },
  {
   "cell_type": "code",
   "execution_count": null,
   "metadata": {},
   "outputs": [],
   "source": [
    "trn_ds = SegData('train')\n",
    "val_ds = SegData('test')\n",
    "\n",
    "trn_dl = DataLoader(trn_ds, batch_size=4, shuffle=True, collate_fn=trn_ds.collate_fn)\n",
    "val_dl = DataLoader(val_ds, batch_size=1, shuffle=True, collate_fn=val_ds.collate_fn)"
   ]
  },
  {
   "cell_type": "code",
   "execution_count": null,
   "metadata": {},
   "outputs": [],
   "source": [
    "show(trn_ds[10][0])"
   ]
  },
  {
   "cell_type": "markdown",
   "metadata": {},
   "source": [
    "#### Defining the neural network model"
   ]
  },
  {
   "cell_type": "code",
   "execution_count": null,
   "metadata": {},
   "outputs": [],
   "source": [
    "def conv(in_channels, out_channels):\n",
    "    \n",
    "    return nn.Sequential(\n",
    "        nn.Conv2d(in_channels, out_channels, kernel_size=3, stride=1, padding=1),\n",
    "        nn.BatchNorm2d(out_channels),\n",
    "        nn.ReLU(inplace=True)\n",
    "    )"
   ]
  },
  {
   "cell_type": "code",
   "execution_count": null,
   "metadata": {},
   "outputs": [],
   "source": [
    "def up_conv(in_channels, out_channels):\n",
    "    \n",
    "    return nn.Sequential(\n",
    "        nn.ConvTranspose2d(in_channels, out_channels, kernel_size=2, stride=2),\n",
    "        nn.ReLU(inplace=True)\n",
    "    )"
   ]
  },
  {
   "cell_type": "code",
   "execution_count": null,
   "metadata": {},
   "outputs": [],
   "source": [
    "class UNet(nn.Module):\n",
    "    \n",
    "    def __init__(self, pretrained=True, out_channels=12):\n",
    "        super().__init__()\n",
    "\n",
    "        self.encoder = vgg16_bn(pretrained=pretrained).features\n",
    "        self.block1 = nn.Sequential(*self.encoder[:6])\n",
    "        self.block2 = nn.Sequential(*self.encoder[6:13])\n",
    "        self.block3 = nn.Sequential(*self.encoder[13:20])\n",
    "        self.block4 = nn.Sequential(*self.encoder[20:27])\n",
    "        self.block5 = nn.Sequential(*self.encoder[27:34])\n",
    "\n",
    "        self.bottleneck = nn.Sequential(*self.encoder[34:])\n",
    "        self.conv_bottleneck = conv(512, 1024)\n",
    "\n",
    "        self.up_conv6 = up_conv(1024, 512)\n",
    "        self.conv6 = conv(512 + 512, 512)\n",
    "        self.up_conv7 = up_conv(512, 256)\n",
    "        self.conv7 = conv(256 + 512, 256)\n",
    "        self.up_conv8 = up_conv(256, 128)\n",
    "        self.conv8 = conv(128 + 256, 128)\n",
    "        self.up_conv9 = up_conv(128, 64)\n",
    "        self.conv9 = conv(64 + 128, 64)\n",
    "        self.up_conv10 = up_conv(64, 32)\n",
    "        self.conv10 = conv(32 + 64, 32)\n",
    "        self.conv11 = nn.Conv2d(32, out_channels, kernel_size=1)\n",
    "        \n",
    "    def forward(self, x):\n",
    "        \n",
    "        block1 = self.block1(x)\n",
    "        block2 = self.block2(block1)\n",
    "        block3 = self.block3(block2)\n",
    "        block4 = self.block4(block3)\n",
    "        block5 = self.block5(block4)\n",
    "\n",
    "        bottleneck = self.bottleneck(block5)\n",
    "        x = self.conv_bottleneck(bottleneck)\n",
    "\n",
    "        x = self.up_conv6(x)\n",
    "        x = torch.cat([x, block5], dim=1)\n",
    "        x = self.conv6(x)\n",
    "\n",
    "        x = self.up_conv7(x)\n",
    "        x = torch.cat([x, block4], dim=1)\n",
    "        x = self.conv7(x)\n",
    "\n",
    "        x = self.up_conv8(x)\n",
    "        x = torch.cat([x, block3], dim=1)\n",
    "        x = self.conv8(x)\n",
    "\n",
    "        x = self.up_conv9(x)\n",
    "        x = torch.cat([x, block2], dim=1)\n",
    "        x = self.conv9(x)\n",
    "\n",
    "        x = self.up_conv10(x)\n",
    "        x = torch.cat([x, block1], dim=1)\n",
    "        x = self.conv10(x)\n",
    "\n",
    "        x = self.conv11(x)\n",
    "\n",
    "        return x"
   ]
  },
  {
   "cell_type": "markdown",
   "metadata": {},
   "source": [
    "#### Defining a function that will calculate the loss and accuracy values"
   ]
  },
  {
   "cell_type": "code",
   "execution_count": null,
   "metadata": {},
   "outputs": [],
   "source": [
    "ce = nn.CrossEntropyLoss()\n",
    "\n",
    "def UnetLoss(preds, targets):\n",
    "    \n",
    "    ce_loss = ce(preds, targets)\n",
    "    acc = (torch.max(preds, 1)[1] == targets).float().mean()\n",
    "    \n",
    "    return ce_loss, acc"
   ]
  },
  {
   "cell_type": "markdown",
   "metadata": {},
   "source": [
    "#### Defining a function that will train on batch and calculate metrics on the validation dataset"
   ]
  },
  {
   "cell_type": "code",
   "execution_count": null,
   "metadata": {},
   "outputs": [],
   "source": [
    "def train_batch(model, data, optimizer, criterion):\n",
    "    \n",
    "    model.train()\n",
    "    ims, ce_masks = data\n",
    "    _masks = model(ims)\n",
    "    optimizer.zero_grad()\n",
    "    loss, acc = criterion(_masks, ce_masks)\n",
    "    loss.backward()\n",
    "    optimizer.step()\n",
    "    \n",
    "    return loss.item(), acc.item()"
   ]
  },
  {
   "cell_type": "code",
   "execution_count": null,
   "metadata": {},
   "outputs": [],
   "source": [
    "@torch.no_grad()\n",
    "def validate_batch(model, data, criterion):\n",
    "    \n",
    "    model.eval()\n",
    "    ims, masks = data\n",
    "    _masks = model(ims)\n",
    "    loss, acc = criterion(_masks, masks)\n",
    "    \n",
    "    return loss.item(), acc.item()"
   ]
  },
  {
   "cell_type": "markdown",
   "metadata": {},
   "source": [
    "#### Defining the model, optimizer, loss function, and the number of epochs"
   ]
  },
  {
   "cell_type": "code",
   "execution_count": null,
   "metadata": {},
   "outputs": [],
   "source": [
    "model = UNet().to(device)\n",
    "criterion = UnetLoss\n",
    "optimizer = optim.Adam(model.parameters(), lr=1e-3)\n",
    "n_epochs = 20"
   ]
  },
  {
   "cell_type": "markdown",
   "metadata": {},
   "source": [
    "#### Train the model over increasing epochs"
   ]
  },
  {
   "cell_type": "code",
   "execution_count": null,
   "metadata": {},
   "outputs": [],
   "source": [
    "log = Report(n_epochs)\n",
    "\n",
    "for ex in range(n_epochs):\n",
    "    N = len(trn_dl)\n",
    "    \n",
    "    for bx, data in enumerate(trn_dl):\n",
    "        loss, acc = train_batch(model, data, optimizer, criterion)\n",
    "        log.record(ex+(bx+1)/N, trn_loss=loss, trn_acc=acc, end='\\r')\n",
    "\n",
    "    N = len(val_dl)\n",
    "    \n",
    "    for bx, data in enumerate(val_dl):\n",
    "        loss, acc = validate_batch(model, data, criterion)\n",
    "        log.record(ex+(bx+1)/N, val_loss=loss, val_acc=acc, end='\\r')\n",
    "        \n",
    "    log.report_avgs(ex+1)"
   ]
  },
  {
   "cell_type": "code",
   "execution_count": 8,
   "metadata": {},
   "outputs": [],
   "source": [
    "#### Ploting the training, validation loss, and accuracy values over increasing epochs"
   ]
  },
  {
   "cell_type": "code",
   "execution_count": null,
   "metadata": {},
   "outputs": [],
   "source": [
    "log.plot_epochs(['trn_loss','val_loss'])"
   ]
  },
  {
   "cell_type": "markdown",
   "metadata": {},
   "source": [
    "### Calculating the predicted output on a new image"
   ]
  },
  {
   "cell_type": "code",
   "execution_count": null,
   "metadata": {},
   "outputs": [],
   "source": [
    "im, mask = next(iter(val_dl))\n",
    "_mask = model(im)\n",
    "_, _mask = torch.max(_mask, dim=1)\n",
    "\n",
    "subplots([im[0].permute(1,2,0).detach().cpu()[:,:,0],\n",
    "          mask.permute(1,2,0).detach().cpu()[:,:,0],\n",
    "          _mask.permute(1,2,0).detach().cpu()[:,:,0]],\n",
    "          nc=3,\n",
    "          titles=['Original image','Original mask','Predicted mask'])"
   ]
  },
  {
   "cell_type": "code",
   "execution_count": null,
   "metadata": {},
   "outputs": [],
   "source": []
  }
 ],
 "metadata": {
  "kernelspec": {
   "display_name": "Python (deeplearning)",
   "language": "python",
   "name": "deeplearning"
  },
  "language_info": {
   "codemirror_mode": {
    "name": "ipython",
    "version": 3
   },
   "file_extension": ".py",
   "mimetype": "text/x-python",
   "name": "python",
   "nbconvert_exporter": "python",
   "pygments_lexer": "ipython3",
   "version": "3.8.5"
  }
 },
 "nbformat": 4,
 "nbformat_minor": 4
}
